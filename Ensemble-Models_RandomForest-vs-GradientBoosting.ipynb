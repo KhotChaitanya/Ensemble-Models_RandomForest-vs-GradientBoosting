{
 "cells": [
  {
   "cell_type": "markdown",
   "id": "36fab496",
   "metadata": {},
   "source": [
    "# Random Forest vs Gradient Boosting — Credit Risk Prediction (Offline Dataset)\n",
    "\n",
    "In this notebook, we compare **Random Forest** and **Gradient Boosting** classifiers for predicting loan default risk. We use a real-world offline Credit Risk dataset to understand how bagging and boosting differ in performance and behavior."
   ]
  },
  {
   "cell_type": "code",
   "execution_count": null,
   "id": "ccc6644d",
   "metadata": {},
   "outputs": [],
   "source": [
    "# Step 1: Import Required Libraries\n",
    "import pandas as pd\n",
    "import numpy as np\n",
    "import matplotlib.pyplot as plt\n",
    "import seaborn as sns\n",
    "from sklearn.model_selection import train_test_split\n",
    "from sklearn.preprocessing import LabelEncoder, StandardScaler\n",
    "from sklearn.ensemble import RandomForestClassifier, GradientBoostingClassifier\n",
    "from sklearn.metrics import classification_report, accuracy_score, confusion_matrix, roc_auc_score, roc_curve\n",
    "import warnings\n",
    "warnings.filterwarnings('ignore')"
   ]
  },
  {
   "cell_type": "markdown",
   "id": "e9ebbf54",
   "metadata": {},
   "source": [
    "## Step 2: Load Dataset"
   ]
  },
  {
   "cell_type": "code",
   "execution_count": null,
   "id": "9533ee70",
   "metadata": {},
   "outputs": [],
   "source": [
    "# Load from local path\n",
    "df = pd.read_csv('D:/ChaitanyaKhot-96/CreditRisk.csv')\n",
    "df.head()"
   ]
  },
  {
   "cell_type": "markdown",
   "id": "1b2c6f13",
   "metadata": {},
   "source": [
    "## Step 3: Data Preprocessing"
   ]
  },
  {
   "cell_type": "code",
   "execution_count": null,
   "id": "0ec193b9",
   "metadata": {},
   "outputs": [],
   "source": [
    "# Encode categorical variables\n",
    "cat_cols = df.select_dtypes(include='object').columns\n",
    "df_encoded = df.copy()\n",
    "for col in cat_cols:\n",
    "    df_encoded[col] = LabelEncoder().fit_transform(df_encoded[col])\n",
    "\n",
    "# Define X and y\n",
    "X = df_encoded.drop(['Loan_ID', 'Loan_Status'], axis=1)\n",
    "y = df_encoded['Loan_Status']  # 1 = Approved, 0 = Not approved\n",
    "\n",
    "# Split\n",
    "X_train, X_test, y_train, y_test = train_test_split(X, y, test_size=0.2, random_state=42)\n",
    "\n",
    "# Scale\n",
    "scaler = StandardScaler()\n",
    "X_train_scaled = scaler.fit_transform(X_train)\n",
    "X_test_scaled = scaler.transform(X_test)"
   ]
  },
  {
   "cell_type": "markdown",
   "id": "baaee2fe",
   "metadata": {},
   "source": [
    "## Step 4: Model Training"
   ]
  },
  {
   "cell_type": "code",
   "execution_count": null,
   "id": "9952d31c",
   "metadata": {},
   "outputs": [],
   "source": [
    "# Train Random Forest\n",
    "rf_model = RandomForestClassifier(n_estimators=100, random_state=42)\n",
    "rf_model.fit(X_train_scaled, y_train)\n",
    "\n",
    "# Train Gradient Boosting\n",
    "gb_model = GradientBoostingClassifier(n_estimators=100, random_state=42)\n",
    "gb_model.fit(X_train_scaled, y_train)"
   ]
  },
  {
   "cell_type": "markdown",
   "id": "b7927221",
   "metadata": {},
   "source": [
    "## Step 5: Model Evaluation"
   ]
  },
  {
   "cell_type": "code",
   "execution_count": null,
   "id": "93d6442c",
   "metadata": {},
   "outputs": [],
   "source": [
    "def evaluate(model, name):\n",
    "    y_pred = model.predict(X_test_scaled)\n",
    "    print(f\"\\nModel: {name}\")\n",
    "    print(\"Accuracy:\", accuracy_score(y_test, y_pred))\n",
    "    print(\"Confusion Matrix:\\n\", confusion_matrix(y_test, y_pred))\n",
    "    print(\"Classification Report:\\n\", classification_report(y_test, y_pred))\n",
    "    print(\"ROC AUC:\", roc_auc_score(y_test, model.predict_proba(X_test_scaled)[:, 1]))\n",
    "\n",
    "evaluate(rf_model, \"Random Forest\")\n",
    "evaluate(gb_model, \"Gradient Boosting\")"
   ]
  },
  {
   "cell_type": "markdown",
   "id": "11499cb6",
   "metadata": {},
   "source": [
    "## Step 6: ROC Curve"
   ]
  },
  {
   "cell_type": "code",
   "execution_count": null,
   "id": "7807b3c5",
   "metadata": {},
   "outputs": [],
   "source": [
    "rf_probs = rf_model.predict_proba(X_test_scaled)[:, 1]\n",
    "gb_probs = gb_model.predict_proba(X_test_scaled)[:, 1]\n",
    "rf_fpr, rf_tpr, _ = roc_curve(y_test, rf_probs)\n",
    "gb_fpr, gb_tpr, _ = roc_curve(y_test, gb_probs)\n",
    "\n",
    "plt.figure(figsize=(8,6))\n",
    "plt.plot(rf_fpr, rf_tpr, label='Random Forest')\n",
    "plt.plot(gb_fpr, gb_tpr, label='Gradient Boosting')\n",
    "plt.plot([0,1],[0,1],'k--')\n",
    "plt.xlabel('False Positive Rate')\n",
    "plt.ylabel('True Positive Rate')\n",
    "plt.title('ROC Curve')\n",
    "plt.legend()\n",
    "plt.grid(True)\n",
    "plt.show()"
   ]
  },
  {
   "cell_type": "markdown",
   "id": "2cba96c6",
   "metadata": {},
   "source": [
    "## Step 7: Realistic Prediction Queries"
   ]
  },
  {
   "cell_type": "code",
   "execution_count": null,
   "id": "8e2a76eb",
   "metadata": {},
   "outputs": [],
   "source": [
    "# Sample profile from test set\n",
    "sample = pd.DataFrame([X.iloc[5]], columns=X.columns)\n",
    "sample_scaled = scaler.transform(sample)\n",
    "print(\"Prediction for profile:\")\n",
    "print(sample)\n",
    "\n",
    "print(\"\\nRandom Forest Prediction:\", rf_model.predict(sample_scaled)[0],\n",
    "      \", Probability = {:.1f}%\".format(rf_model.predict_proba(sample_scaled)[0][1]*100))\n",
    "print(\"Gradient Boosting Prediction:\", gb_model.predict(sample_scaled)[0],\n",
    "      \", Probability = {:.1f}%\".format(gb_model.predict_proba(sample_scaled)[0][1]*100))"
   ]
  },
  {
   "cell_type": "markdown",
   "id": "379de09c",
   "metadata": {},
   "source": [
    "## Step 8: Conclusion\n",
    "\n",
    "- **Random Forest** uses bagging and is generally robust and fast.\n",
    "- **Gradient Boosting** focuses on correcting previous mistakes and can give better accuracy after tuning.\n",
    "- Both models perform well but have different strengths.\n",
    "- Choose RF for simplicity and speed, GB for performance and tuning flexibility."
   ]
  }
 ],
 "metadata": {},
 "nbformat": 4,
 "nbformat_minor": 5
}
